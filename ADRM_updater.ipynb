{
  "nbformat": 4,
  "nbformat_minor": 0,
  "metadata": {
    "colab": {
      "provenance": [],
      "collapsed_sections": [
        "AUjLerDyb_fj"
      ],
      "authorship_tag": "ABX9TyMsAUGSbVIn6RW3CAk0cF1z",
      "include_colab_link": true
    },
    "kernelspec": {
      "name": "python3",
      "display_name": "Python 3"
    },
    "language_info": {
      "name": "python"
    }
  },
  "cells": [
    {
      "cell_type": "markdown",
      "metadata": {
        "id": "view-in-github",
        "colab_type": "text"
      },
      "source": [
        "<a href=\"https://colab.research.google.com/github/Giovanni-ALLAGLO/projetTechWeb/blob/main/ADRM_updater.ipynb\" target=\"_parent\"><img src=\"https://colab.research.google.com/assets/colab-badge.svg\" alt=\"Open In Colab\"/></a>"
      ]
    },
    {
      "cell_type": "markdown",
      "source": [
        "#Partie 1"
      ],
      "metadata": {
        "id": "AUjLerDyb_fj"
      }
    },
    {
      "cell_type": "markdown",
      "source": [
        "importations des bibliotheques"
      ],
      "metadata": {
        "id": "uccDTXND3VlX"
      }
    },
    {
      "cell_type": "code",
      "source": [
        "import pandas as pd\n",
        "import numpy as np"
      ],
      "metadata": {
        "id": "O0HTF54r3Wnc"
      },
      "execution_count": null,
      "outputs": []
    },
    {
      "cell_type": "markdown",
      "source": [
        "Traitement du des fichiers Excel. Mise en place des dataframes.\n",
        "Importations des fichiers excel"
      ],
      "metadata": {
        "id": "CrrhCy3N3uAr"
      }
    },
    {
      "cell_type": "code",
      "source": [
        "previousFile= pd.read_excel('/content/August[197].xlsx')\n",
        "currentFile= pd.read_excel('/content/September[198].xlsx')"
      ],
      "metadata": {
        "id": "0K0lTTwZ3s40"
      },
      "execution_count": null,
      "outputs": []
    },
    {
      "cell_type": "markdown",
      "source": [
        "Fusion de dataframe sur l'index Opp ID"
      ],
      "metadata": {
        "id": "tn13NtKQ6ctK"
      }
    },
    {
      "cell_type": "code",
      "source": [
        "resultat=pd.merge(currentFile,previousFile[['Opp ID','Notes','Next steps']],on='Opp ID',how='left')"
      ],
      "metadata": {
        "id": "Jg3DE8Hw5iri"
      },
      "execution_count": null,
      "outputs": []
    },
    {
      "cell_type": "markdown",
      "source": [
        "retransformation en excel: fichier de sortie"
      ],
      "metadata": {
        "id": "TCeRPsKgmV6l"
      }
    },
    {
      "cell_type": "code",
      "source": [
        "resultat.to_excel(\"output.xlsx\",index=False)"
      ],
      "metadata": {
        "id": "3xZ-dmuvmYXy"
      },
      "execution_count": null,
      "outputs": []
    },
    {
      "cell_type": "markdown",
      "source": [
        "Mise en forme en excel (taille de la largeur des colonnes)"
      ],
      "metadata": {
        "id": "dIVRU-kd43yl"
      }
    },
    {
      "cell_type": "markdown",
      "source": [
        "#Partie2 : V1\n"
      ],
      "metadata": {
        "id": "TMPBfvOyrE90"
      }
    },
    {
      "cell_type": "code",
      "source": [
        "from openpyxl import load_workbook\n",
        "\n",
        "document=load_workbook(\"/content/September[198].xlsx\")\n",
        "print(document.sheetnames)"
      ],
      "metadata": {
        "colab": {
          "base_uri": "https://localhost:8080/"
        },
        "id": "aMVp1bJarOuT",
        "outputId": "fa551530-ca76-4732-e7cd-2cd18bd08889"
      },
      "execution_count": null,
      "outputs": [
        {
          "output_type": "stream",
          "name": "stdout",
          "text": [
            "['Sheet1']\n"
          ]
        }
      ]
    },
    {
      "cell_type": "markdown",
      "source": [
        "Permet de reperer la derniere colonne et la derniere ligne non-vides"
      ],
      "metadata": {
        "id": "HowwRSdypv4j"
      }
    },
    {
      "cell_type": "code",
      "source": [
        "document['Sheet1'].max_column\n"
      ],
      "metadata": {
        "id": "ksfbSDxzsV1D",
        "colab": {
          "base_uri": "https://localhost:8080/"
        },
        "outputId": "4b06a276-bb08-4afe-ab7a-db3cd83a6059"
      },
      "execution_count": null,
      "outputs": [
        {
          "output_type": "execute_result",
          "data": {
            "text/plain": [
              "6"
            ]
          },
          "metadata": {},
          "execution_count": 23
        }
      ]
    },
    {
      "cell_type": "markdown",
      "source": [
        "Utilisation de la fonction VBA Vlookup"
      ],
      "metadata": {
        "id": "H5pv71s8Rt16"
      }
    },
    {
      "cell_type": "code",
      "source": [
        "#importation librairies\n",
        "from copy import copy\n",
        "from openpyxl import load_workbook\n",
        "from openpyxl.utils import get_column_letter\n",
        "\n",
        "#importations fichiers\n",
        "\n",
        "previous_document= load_workbook(filename = '/content/August.xlsx')\n",
        "new_document = load_workbook(filename = '/content/September[198].xlsx')\n",
        "\n",
        "#specifie les feuilles de calculs concernée\n",
        "previous_sheet= previous_document['Sheet1']\n",
        "new_sheet= new_document.active\n",
        "\n",
        "# le nombre de colonne et de ligne\n",
        "last_column= new_sheet.max_column\n",
        "last_row= new_sheet.max_row\n",
        "\n",
        "\n",
        "#print(get_column_letter(last_column))\n",
        "\n",
        "cell_title=new_sheet['A1']\n",
        "cell_notes=new_sheet[get_column_letter(last_column+1)+'1']\n",
        "\n",
        "#ecrire Notes avec le meme style que les autres titres\n",
        "cell_notes.value=\"Notes\"\n",
        "cell_notes.font = copy(cell_title.font)\n",
        "cell_notes.border = copy(cell_title.border)\n",
        "cell_notes.fill = copy(cell_title.fill)\n",
        "cell_notes.number_format = copy(cell_title.number_format)\n",
        "cell_notes.protection = copy(cell_title.protection)\n",
        "cell_notes.alignment = copy(cell_title.alignment)\n",
        "\n",
        "\n",
        "#la fonction Vlookup appliqué sur la colonne de Note\n",
        "model=new_sheet['A2']\n",
        "for row in  new_sheet['E2:E13']:\n",
        "  for cell in row:\n",
        "    cell.value = \"=VLOOKUP(B{},'[August.xlsx]Sheet1'!$B$2:$F$14,4, FALSE)\".format(cell.row)\n",
        "    cell.font = copy(model.font)\n",
        "    cell.border = copy(model.border)\n",
        "    cell.fill = copy(model.fill)\n",
        "    cell.number_format = copy(model.number_format)\n",
        "    cell.protection = copy(model.protection)\n",
        "    cell.alignment = copy(model.alignment)\n",
        "\n",
        "#resultat en fichier excel\n",
        "new_document.save('out.xlsx')\n",
        "\n",
        "\n"
      ],
      "metadata": {
        "id": "cTxjt5XbRUPt"
      },
      "execution_count": null,
      "outputs": []
    }
  ]
}